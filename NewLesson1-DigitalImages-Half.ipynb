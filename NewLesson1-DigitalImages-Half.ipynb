{
 "cells": [
  {
   "cell_type": "markdown",
   "metadata": {},
   "source": [
    "# Lesson 1: Digital Images\n",
    "\n",
    "Our goal today is to understand what a digital image is and how it is commonly represented as bits and bytes. We will cover the following topics:\n",
    "\n",
    "- 1. Loading and viewing images\n",
    "   - 1-1 Load image into iPython notebook   \n",
    "   - 1-2 Load the associated metadata   \n",
    "   - 1-3 Get bit depth of image    \n",
    "   - 1-4 View image in iPython notebook\n",
    "- 2. Using JSON and python dictionaries for metadata\n",
    "- 3. Indexing and arrays\n",
    "    - 2-1 Print a subset of pixel values (such as the top right corner)   \n",
    "    - 2-2 Set that subset of values to 0   \n",
    "    - 2-3 View the modified image in iPython       \n",
    "- 4. Histogram the pixel values in the image\n",
    "- 5. Color maps and color science\n",
    "- 6. File size, disk space, and memory: \n",
    "    - 5-1 Report the size of the file on the disk    \n",
    "    - 5-2 Report the size of the file read into memory       \n",
    "- 7. Errors and debugs:   \n",
    "    - 6-1 SyntaxError\n",
    "    - 6-2 NameError\n",
    "    - 6-3 IndexError   "
   ]
  },
  {
   "cell_type": "markdown",
   "metadata": {},
   "source": [
    "**Exercise 1** Practice using & navigating jupyter notebooks\n",
    "\n",
    "In the cell below (\"My notes about jupyter notebooks\"), change the cell type to markdown (comments and notes). It should look like this line of text when you're done. \n",
    "\n",
    "How? \n",
    "Click to the left of the cell. The marker on the right should turn blue (and not be green). If green, hit escape. \n",
    "\n",
    "Hint: You can find the shortcut for this by clicking outside of the text boxes and pressing \"h\". This information will be in the \"Command Mode\" section of the help menu."
   ]
  },
  {
   "cell_type": "markdown",
   "metadata": {
    "collapsed": true
   },
   "source": [
    "**My notes about jupyter notebooks**\n",
    "\n",
    "From Edit mode (green-selected cell that you can type into)\n",
    "   - SHIFT-ENTER runs the cell and selects the cell below\n",
    "   - ESC puts you into command mode\n",
    "   - h pulls up a help window\n",
    "\n",
    "From Command mode (blue-marked cell)\n",
    "   - a enters a new cell above the selected cell\n",
    "   - b enters a new cell below the selected cell\n",
    "   - dd deletes the selected cell\n",
    "   - y changes the cell type to python code\n",
    "   - m changes the cell to markdown\n",
    "   - ENTER enters edit mode"
   ]
  },
  {
   "cell_type": "markdown",
   "metadata": {},
   "source": [
    "## 1.Loading and viewing images"
   ]
  },
  {
   "cell_type": "markdown",
   "metadata": {},
   "source": [
    "First some boilerplate code to make it easier to access useful libraries, and to make it easier to visualize data in the notebook."
   ]
  },
  {
   "cell_type": "code",
   "execution_count": 1,
   "metadata": {},
   "outputs": [],
   "source": [
    "%matplotlib inline                \n",
    "\n",
    "import numpy as np\n",
    "import matplotlib.pyplot as plt   \n",
    "import seaborn as sns"
   ]
  },
  {
   "cell_type": "markdown",
   "metadata": {},
   "source": [
    "\"%matplotlib inline\" is a magic function to sets the backend of matplotlib to the 'inline' backend, which means plotting right after commond, and saving the results.\n",
    "\n",
    "Now the `numpy` numerical array library is available as `np`. Plotting functions are available with `plt`, and `seaborn`'s advanced plots are accessed through `sns`. Just importing `seaborn` at all makes `Matplotlib` look nicer."
   ]
  },
  {
   "cell_type": "markdown",
   "metadata": {},
   "source": [
    "\n",
    "Let's set some defaults for the packages we just imported, which gets rid of grid line on our image plots!"
   ]
  },
  {
   "cell_type": "markdown",
   "metadata": {},
   "source": [
    "Use bash commands to:\n",
    "1. Create a folder on your desktop for this minicourse, call it datalucence2018\n",
    "2. Create two subfolders, one called code and a second called data\n",
    "    ~/Desktop/datalucence2018/code\n",
    "    ~/Desktop/datalucence2018/data\n",
    "2. Download the Data_DrugConfocalPanel folder from Canvas (under files)\n",
    "3. Move this folder into ~/Desktop/datalucence2018/data\n",
    "4. Navigate to datalucence2018\n"
   ]
  },
  {
   "cell_type": "code",
   "execution_count": 2,
   "metadata": {},
   "outputs": [
    {
     "name": "stdout",
     "output_type": "stream",
     "text": [
      "/Users/Tomato/Desktop/datalucence2018/data\n"
     ]
    }
   ],
   "source": [
    "cd ~/Desktop/datalucence2018/data/"
   ]
  },
  {
   "cell_type": "code",
   "execution_count": 3,
   "metadata": {},
   "outputs": [
    {
     "data": {
      "text/plain": [
       "'/Users/Tomato/Desktop/datalucence2018/data'"
      ]
     },
     "execution_count": 3,
     "metadata": {},
     "output_type": "execute_result"
    }
   ],
   "source": [
    "pwd"
   ]
  },
  {
   "cell_type": "code",
   "execution_count": 4,
   "metadata": {
    "scrolled": true
   },
   "outputs": [
    {
     "name": "stdout",
     "output_type": "stream",
     "text": [
      "\u001b[34mData_ConfocalDrugPanel\u001b[m\u001b[m/\r\n"
     ]
    }
   ],
   "source": [
    "ls"
   ]
  },
  {
   "cell_type": "markdown",
   "metadata": {},
   "source": [
    "The images in this folder are part of an experiment to determine the effects of drug A on the cells in the image. DMSO is the solvent/vehicle for drugA.  Thus the DMSO.tif file is the control condition and the drugA.tif is the test condition"
   ]
  },
  {
   "cell_type": "code",
   "execution_count": 5,
   "metadata": {
    "scrolled": true
   },
   "outputs": [
    {
     "name": "stdout",
     "output_type": "stream",
     "text": [
      "\u001b[31mDMSO.tif\u001b[m\u001b[m*            \u001b[31mdrugA.tif\u001b[m\u001b[m*           \u001b[31mtemp_DMSO.tif\u001b[m\u001b[m*\r\n",
      "\u001b[31mDMSO_metadata.json\u001b[m\u001b[m*  \u001b[31mdrugA_metadata.json\u001b[m\u001b[m*\r\n"
     ]
    }
   ],
   "source": [
    "ls ./Data_ConfocalDrugPanel/"
   ]
  },
  {
   "cell_type": "markdown",
   "metadata": {},
   "source": [
    "Let's make a common data path for our class."
   ]
  },
  {
   "cell_type": "code",
   "execution_count": 6,
   "metadata": {},
   "outputs": [],
   "source": [
    "data_path = \"../data/Data_ConfocalDrugPanel/\""
   ]
  },
  {
   "cell_type": "markdown",
   "metadata": {},
   "source": [
    "### 1-1 Load image into Jupyter notebook"
   ]
  },
  {
   "cell_type": "code",
   "execution_count": 7,
   "metadata": {},
   "outputs": [],
   "source": [
    "from skimage.io import imread"
   ]
  },
  {
   "cell_type": "code",
   "execution_count": 8,
   "metadata": {},
   "outputs": [],
   "source": [
    "imread?"
   ]
  },
  {
   "cell_type": "code",
   "execution_count": 9,
   "metadata": {},
   "outputs": [],
   "source": [
    "ctl_data = imread(data_path + \"DMSO.tif\")"
   ]
  },
  {
   "cell_type": "code",
   "execution_count": 10,
   "metadata": {},
   "outputs": [
    {
     "data": {
      "text/plain": [
       "(9, 819, 819, 3)"
      ]
     },
     "execution_count": 10,
     "metadata": {},
     "output_type": "execute_result"
    }
   ],
   "source": [
    "ctl_data.shape"
   ]
  },
  {
   "cell_type": "markdown",
   "metadata": {},
   "source": [
    "`data` is a `numpy` array. it's shape indicates that it has four dimensions.  So, this file is more complex than a single two-dimensional data array.  Fortunately, our former lab member (or former self) has left behind a metadata file to decode what data are in this file."
   ]
  },
  {
   "cell_type": "markdown",
   "metadata": {},
   "source": [
    "Load the metadata:\n",
    "Our former labmate has put the metadata into a file format called JSON. JSON files are easily loaded into python as the dictionary data type. Dictionaries in python are indexed with keys, which are strings instead of numerical indices (such as used in lists). To understand this concept, load the JSON file and examine it."
   ]
  },
  {
   "cell_type": "code",
   "execution_count": 11,
   "metadata": {},
   "outputs": [],
   "source": [
    "#open JSON file in READ ONLY mode and put its contents into a dictionary\n",
    "import json #import JSON library\n",
    "with open(data_path + \"DMSO_metadata.json\", mode='r') as metadata_ctl:\n",
    "    meta_ctl = json.load(metadata_ctl)"
   ]
  },
  {
   "cell_type": "code",
   "execution_count": 12,
   "metadata": {},
   "outputs": [
    {
     "name": "stdout",
     "output_type": "stream",
     "text": [
      "{'cell_type': 'fibroblast', 'axes': ['ZXYTC'], 'pixel_size': [0.3459442, 0.3459442, 0.7694383], 'raw_data_date': ['add_this'], 'image_preprocessing_done': ['Noise_generator.ipynb', 'Branch=day3-day4-rework', \"GitCommitId=b'8669e48fb072e2f87f655b3e87f09e4926dbf1b0\\\\n'\"], 'channels': ['your_fav_protein', 'nucleus', 'actin']}\n"
     ]
    }
   ],
   "source": [
    "print(meta_ctl)"
   ]
  },
  {
   "cell_type": "markdown",
   "metadata": {},
   "source": [
    "This is a bit difficult to digest, so let's work our way through the information"
   ]
  },
  {
   "cell_type": "code",
   "execution_count": 13,
   "metadata": {},
   "outputs": [
    {
     "name": "stdout",
     "output_type": "stream",
     "text": [
      "cell_type\n",
      "axes\n",
      "pixel_size\n",
      "raw_data_date\n",
      "image_preprocessing_done\n",
      "channels\n"
     ]
    }
   ],
   "source": [
    "#list the keys in the dictionary\n",
    "for key in meta_ctl:\n",
    "    print(key)"
   ]
  },
  {
   "cell_type": "code",
   "execution_count": 14,
   "metadata": {},
   "outputs": [
    {
     "name": "stdout",
     "output_type": "stream",
     "text": [
      "cell_type fibroblast\n",
      "axes ['ZXYTC']\n",
      "pixel_size [0.3459442, 0.3459442, 0.7694383]\n",
      "raw_data_date ['add_this']\n",
      "image_preprocessing_done ['Noise_generator.ipynb', 'Branch=day3-day4-rework', \"GitCommitId=b'8669e48fb072e2f87f655b3e87f09e4926dbf1b0\\\\n'\"]\n",
      "channels ['your_fav_protein', 'nucleus', 'actin']\n"
     ]
    }
   ],
   "source": [
    "for key, value in meta_ctl.items():\n",
    "    print(key, value)"
   ]
  },
  {
   "cell_type": "code",
   "execution_count": 15,
   "metadata": {},
   "outputs": [
    {
     "data": {
      "text/plain": [
       "['your_fav_protein', 'nucleus', 'actin']"
      ]
     },
     "execution_count": 15,
     "metadata": {},
     "output_type": "execute_result"
    }
   ],
   "source": [
    "meta_ctl[\"channels\"]"
   ]
  },
  {
   "cell_type": "markdown",
   "metadata": {},
   "source": [
    "## Exercise 2: Look at the information imported from the metadata file\n",
    "    print out the axes"
   ]
  },
  {
   "cell_type": "code",
   "execution_count": 16,
   "metadata": {},
   "outputs": [
    {
     "data": {
      "text/plain": [
       "['ZXYTC']"
      ]
     },
     "execution_count": 16,
     "metadata": {},
     "output_type": "execute_result"
    }
   ],
   "source": [
    "meta_ctl[\"axes\"]"
   ]
  },
  {
   "cell_type": "markdown",
   "metadata": {},
   "source": [
    "It can be useful to organize your data into a dict instead of a numerical array when one of the dimensions of the array corresponds to something that is non-numerical in nature. Here, the channel dimension is stored as another dimension in the numerical array that is wt_data. To get the image corresponding to one of the channels, you would have to remember which of the channel slices corresponds to the channel you would like to see. Below we'll organize the data into a dict so that the channels can be indexed by an intuitive string and not a numerical index."
   ]
  },
  {
   "cell_type": "code",
   "execution_count": 17,
   "metadata": {},
   "outputs": [
    {
     "data": {
      "text/plain": [
       "(9, 819, 819, 3)"
      ]
     },
     "execution_count": 17,
     "metadata": {},
     "output_type": "execute_result"
    }
   ],
   "source": [
    "ctl_data.shape"
   ]
  },
  {
   "cell_type": "markdown",
   "metadata": {},
   "source": [
    "## Challenge: \n",
    "Based on the metadata and the shape, what is a likely meaning of the four axes of ctl_data?"
   ]
  },
  {
   "cell_type": "code",
   "execution_count": 18,
   "metadata": {},
   "outputs": [
    {
     "name": "stdout",
     "output_type": "stream",
     "text": [
      "0\n",
      "1\n",
      "2\n"
     ]
    }
   ],
   "source": [
    "#use the metadata to create a new dictionary that refers to one slice and all channeles\n",
    "ctl_slice = {}\n",
    "\n",
    "for idx, channel in enumerate(meta_ctl['channels']):\n",
    "    ctl_slice[channel] = ctl_data[3,:,:,idx]\n",
    "    print(idx)"
   ]
  },
  {
   "cell_type": "markdown",
   "metadata": {},
   "source": [
    "\n",
    "### 1-3 Get bit depth of image"
   ]
  },
  {
   "cell_type": "code",
   "execution_count": 19,
   "metadata": {},
   "outputs": [
    {
     "data": {
      "text/plain": [
       "dtype('uint16')"
      ]
     },
     "execution_count": 19,
     "metadata": {},
     "output_type": "execute_result"
    }
   ],
   "source": [
    "ctl_data.dtype"
   ]
  },
  {
   "cell_type": "markdown",
   "metadata": {},
   "source": [
    "They are many kinds of data types. Here the data type is `uint16`.\n",
    " `uint16` means \"unsigned (not negative) integer with 16 bits per pixel\".\n",
    "\n",
    "16 bits means there are $2^{16} = 65536$ possible pixel values. Many scientific images will use 8 or even 12 bits which will have less contrast."
   ]
  },
  {
   "cell_type": "markdown",
   "metadata": {},
   "source": [
    "### 1-4 View image in iPython notebook"
   ]
  },
  {
   "cell_type": "code",
   "execution_count": 20,
   "metadata": {},
   "outputs": [],
   "source": [
    "sns.set_style(\"dark\") #use seaborn package to suppress grid lines"
   ]
  },
  {
   "cell_type": "code",
   "execution_count": 21,
   "metadata": {},
   "outputs": [
    {
     "data": {
      "text/plain": [
       "(819, 819)"
      ]
     },
     "execution_count": 21,
     "metadata": {},
     "output_type": "execute_result"
    }
   ],
   "source": [
    "ctl_slice[\"actin\"].shape #get the dimensions of this single slice in pixels"
   ]
  },
  {
   "cell_type": "code",
   "execution_count": 23,
   "metadata": {},
   "outputs": [
    {
     "data": {
      "text/plain": [
       "<matplotlib.image.AxesImage at 0x1c141812b0>"
      ]
     },
     "execution_count": 23,
     "metadata": {},
     "output_type": "execute_result"
    },
    {
     "data": {
      "image/png": "[encoded data removed]",
      "text/plain": [
       "<Figure size 432x288 with 1 Axes>"
      ]
     },
     "metadata": {},
     "output_type": "display_data"
    }
   ],
   "source": [
    "plt.imshow(ctl_slice[\"actin\"], cmap='gray')"
   ]
  },
  {
   "cell_type": "markdown",
   "metadata": {},
   "source": [
    "We had to specify how we wanted our colorless image to be rendered on our colorful screen, which is why we included `cmap=gray` (cmap for colormap).\n",
    "\n",
    "We will talk more about colormaps and channels later."
   ]
  },
  {
   "cell_type": "markdown",
   "metadata": {},
   "source": [
    "## 2. Indexing and arrays"
   ]
  },
  {
   "cell_type": "markdown",
   "metadata": {},
   "source": [
    "### 2-1 Print a subset of pixel values "
   ]
  },
  {
   "cell_type": "markdown",
   "metadata": {},
   "source": [
    "How would we index into the upper left-most pixel?"
   ]
  },
  {
   "cell_type": "code",
   "execution_count": 24,
   "metadata": {},
   "outputs": [
    {
     "data": {
      "text/plain": [
       "1039"
      ]
     },
     "execution_count": 24,
     "metadata": {},
     "output_type": "execute_result"
    }
   ],
   "source": [
    "ctl_slice[\"actin\"][0,0]"
   ]
  },
  {
   "cell_type": "markdown",
   "metadata": {},
   "source": [
    "What about the lower left?"
   ]
  },
  {
   "cell_type": "code",
   "execution_count": 25,
   "metadata": {},
   "outputs": [
    {
     "data": {
      "text/plain": [
       "950"
      ]
     },
     "execution_count": 25,
     "metadata": {},
     "output_type": "execute_result"
    }
   ],
   "source": [
    "ctl_slice[\"actin\"][-1,0] # row -1 aka last, column 0"
   ]
  },
  {
   "cell_type": "markdown",
   "metadata": {},
   "source": [
    "What about a 10x10 slice from the upper right?"
   ]
  },
  {
   "cell_type": "code",
   "execution_count": 26,
   "metadata": {},
   "outputs": [
    {
     "data": {
      "text/plain": [
       "array([[1123, 1199, 1067, 1069, 1096, 1108, 1069, 1052,  949],\n",
       "       [1187, 1154, 1109, 1052, 1032, 1059, 1085, 1101, 1039],\n",
       "       [1117, 1114, 1180, 1150, 1117, 1129, 1134, 1027,  978],\n",
       "       [1072, 1122, 1321, 1194, 1039, 1103, 1148, 1065, 1050],\n",
       "       [1106, 1154, 1144, 1087, 1107, 1121, 1131, 1011, 1065],\n",
       "       [1210, 1101, 1004, 1046, 1061, 1103, 1033, 1121, 1120],\n",
       "       [1204, 1153, 1085, 1143, 1096, 1108, 1215, 1164, 1131],\n",
       "       [1178, 1159, 1220, 1108, 1107, 1147, 1104, 1102, 1117],\n",
       "       [1096, 1176, 1137,  972, 1174, 1086, 1182, 1093, 1065],\n",
       "       [1117, 1139, 1183, 1134, 1023, 1120, 1097, 1141,    0]],\n",
       "      dtype=uint16)"
      ]
     },
     "execution_count": 26,
     "metadata": {},
     "output_type": "execute_result"
    }
   ],
   "source": [
    "ctl_slice[\"actin\"][0:10,-10:-1] # row from 0 to 10 (not inclusive for 10! and column 10th-to-last second)"
   ]
  },
  {
   "cell_type": "markdown",
   "metadata": {},
   "source": [
    "Does this look like the upper right of the source image?"
   ]
  },
  {
   "cell_type": "code",
   "execution_count": 27,
   "metadata": {},
   "outputs": [
    {
     "data": {
      "text/plain": [
       "<matplotlib.image.AxesImage at 0x1c17a44cc0>"
      ]
     },
     "execution_count": 27,
     "metadata": {},
     "output_type": "execute_result"
    },
    {
     "data": {
      "image/png": "[encoded data removed]",
      "text/plain": [
       "<Figure size 432x288 with 1 Axes>"
      ]
     },
     "metadata": {},
     "output_type": "display_data"
    }
   ],
   "source": [
    "plt.imshow(ctl_slice[\"actin\"][0:10,-10:-1], cmap='gray')"
   ]
  },
  {
   "cell_type": "markdown",
   "metadata": {},
   "source": [
    "We only have 90 pixels not 100 pixels.\n",
    "\n",
    "Note that ranges of indices are exclusive on the high side, inclusive on the low. What happens if I have a slice `1:2`?"
   ]
  },
  {
   "cell_type": "code",
   "execution_count": 28,
   "metadata": {},
   "outputs": [
    {
     "data": {
      "text/plain": [
       "array([[977]], dtype=uint16)"
      ]
     },
     "execution_count": 28,
     "metadata": {},
     "output_type": "execute_result"
    }
   ],
   "source": [
    "ctl_slice[\"actin\"][1:2, 1:2]"
   ]
  },
  {
   "cell_type": "markdown",
   "metadata": {},
   "source": [
    "We get row and column \"from 1, up to (but not including) 2\". This is the same as `data[1,1]`."
   ]
  },
  {
   "cell_type": "markdown",
   "metadata": {},
   "source": [
    "How can we get to the last column?"
   ]
  },
  {
   "cell_type": "code",
   "execution_count": 29,
   "metadata": {},
   "outputs": [
    {
     "data": {
      "text/plain": [
       "array([[1123, 1199, 1067, 1069, 1096, 1108, 1069, 1052,  949, 1097],\n",
       "       [1187, 1154, 1109, 1052, 1032, 1059, 1085, 1101, 1039, 1018],\n",
       "       [1117, 1114, 1180, 1150, 1117, 1129, 1134, 1027,  978, 1095],\n",
       "       [1072, 1122, 1321, 1194, 1039, 1103, 1148, 1065, 1050, 1024],\n",
       "       [1106, 1154, 1144, 1087, 1107, 1121, 1131, 1011, 1065, 1074],\n",
       "       [1210, 1101, 1004, 1046, 1061, 1103, 1033, 1121, 1120, 1100],\n",
       "       [1204, 1153, 1085, 1143, 1096, 1108, 1215, 1164, 1131, 1120],\n",
       "       [1178, 1159, 1220, 1108, 1107, 1147, 1104, 1102, 1117, 1084],\n",
       "       [1096, 1176, 1137,  972, 1174, 1086, 1182, 1093, 1065, 1018],\n",
       "       [1117, 1139, 1183, 1134, 1023, 1120, 1097, 1141,    0, 1060]],\n",
       "      dtype=uint16)"
      ]
     },
     "execution_count": 29,
     "metadata": {},
     "output_type": "execute_result"
    }
   ],
   "source": [
    "ctl_slice[\"actin\"][0:10, 809:819]"
   ]
  },
  {
   "cell_type": "markdown",
   "metadata": {},
   "source": [
    "To save some typing when slicing into your data, we can leave off the value before the colon, meaning (to the beginning). Leaving off the value after means (to the end)."
   ]
  },
  {
   "cell_type": "code",
   "execution_count": 30,
   "metadata": {},
   "outputs": [
    {
     "data": {
      "text/plain": [
       "array([[1123, 1199, 1067, 1069, 1096, 1108, 1069, 1052,  949, 1097],\n",
       "       [1187, 1154, 1109, 1052, 1032, 1059, 1085, 1101, 1039, 1018],\n",
       "       [1117, 1114, 1180, 1150, 1117, 1129, 1134, 1027,  978, 1095],\n",
       "       [1072, 1122, 1321, 1194, 1039, 1103, 1148, 1065, 1050, 1024],\n",
       "       [1106, 1154, 1144, 1087, 1107, 1121, 1131, 1011, 1065, 1074],\n",
       "       [1210, 1101, 1004, 1046, 1061, 1103, 1033, 1121, 1120, 1100],\n",
       "       [1204, 1153, 1085, 1143, 1096, 1108, 1215, 1164, 1131, 1120],\n",
       "       [1178, 1159, 1220, 1108, 1107, 1147, 1104, 1102, 1117, 1084],\n",
       "       [1096, 1176, 1137,  972, 1174, 1086, 1182, 1093, 1065, 1018],\n",
       "       [1117, 1139, 1183, 1134, 1023, 1120, 1097, 1141,    0, 1060]],\n",
       "      dtype=uint16)"
      ]
     },
     "execution_count": 30,
     "metadata": {},
     "output_type": "execute_result"
    }
   ],
   "source": [
    "ctl_slice[\"actin\"][:10,-10:]"
   ]
  },
  {
   "cell_type": "markdown",
   "metadata": {},
   "source": [
    "### 2-2 Set that subset of values to 0 "
   ]
  },
  {
   "cell_type": "markdown",
   "metadata": {},
   "source": [
    "Let's not ruin our original by making a copy! (Keep RAW DATA RAW)"
   ]
  },
  {
   "cell_type": "code",
   "execution_count": 31,
   "metadata": {},
   "outputs": [],
   "source": [
    "modified_data = ctl_slice[\"actin\"].copy()"
   ]
  },
  {
   "cell_type": "markdown",
   "metadata": {},
   "source": [
    "We've viewed data using slicing, now let's set data using slicing!"
   ]
  },
  {
   "cell_type": "code",
   "execution_count": 32,
   "metadata": {},
   "outputs": [],
   "source": [
    "modified_data[:500,-500:] = 0"
   ]
  },
  {
   "cell_type": "markdown",
   "metadata": {},
   "source": [
    "Even though `modified_data[:500,:500]` is a 500x500 array, and 0 is just a scalar, `numpy` is smart and will _broadcast_ the 1x1 value `0` so that the whole 500x500 array is set to a 500x500 array of zeros."
   ]
  },
  {
   "cell_type": "markdown",
   "metadata": {},
   "source": [
    "### 2-3 View the modified image"
   ]
  },
  {
   "cell_type": "code",
   "execution_count": 33,
   "metadata": {},
   "outputs": [
    {
     "data": {
      "text/plain": [
       "<matplotlib.image.AxesImage at 0x1c17af6470>"
      ]
     },
     "execution_count": 33,
     "metadata": {},
     "output_type": "execute_result"
    },
    {
     "data": {
      "image/png": "[encoded data removed]",
      "text/plain": [
       "<Figure size 432x288 with 1 Axes>"
      ]
     },
     "metadata": {},
     "output_type": "display_data"
    }
   ],
   "source": [
    "plt.imshow(modified_data, cmap='gray')"
   ]
  },
  {
   "cell_type": "markdown",
   "metadata": {},
   "source": [
    "## 3. Histogram the pixel values in the image "
   ]
  },
  {
   "cell_type": "markdown",
   "metadata": {},
   "source": [
    "Pixels in an image are just represented by numbers. We can get a sense for the distribution of brightness in our image by looking at a histogram of intensities. Here we don't think about an image as representing something spacial - just a collection of numbers.\n",
    "\n",
    "Make our array into a simple 1D list of data"
   ]
  },
  {
   "cell_type": "code",
   "execution_count": 34,
   "metadata": {},
   "outputs": [],
   "source": [
    "flat_data = ctl_slice[\"nucleus\"].flatten()"
   ]
  },
  {
   "cell_type": "code",
   "execution_count": 35,
   "metadata": {},
   "outputs": [],
   "source": [
    "sns.distplot?"
   ]
  },
  {
   "cell_type": "code",
   "execution_count": 36,
   "metadata": {},
   "outputs": [
    {
     "name": "stderr",
     "output_type": "stream",
     "text": [
      "/Users/Tomato/anaconda3/lib/python3.5/site-packages/matplotlib/axes/_axes.py:6462: UserWarning: The 'normed' kwarg is deprecated, and has been replaced by the 'density' kwarg.\n",
      "  warnings.warn(\"The 'normed' kwarg is deprecated, and has been \"\n"
     ]
    },
    {
     "data": {
      "text/plain": [
       "(0, 20000)"
      ]
     },
     "execution_count": 36,
     "metadata": {},
     "output_type": "execute_result"
    },
    {
     "data": {
      "image/png": "[encoded data removed]",
      "text/plain": [
       "<Figure size 432x288 with 1 Axes>"
      ]
     },
     "metadata": {},
     "output_type": "display_data"
    }
   ],
   "source": [
    "sns.distplot(flat_data, norm_hist=True) #distplot=distribution plot\n",
    "plt.xlabel(\"Pixel intensity\")\n",
    "plt.ylabel(\"Frequency in the image\")\n",
    "plt.xlim(0,20000)"
   ]
  },
  {
   "cell_type": "markdown",
   "metadata": {},
   "source": [
    "## 4.Color maps and color science"
   ]
  },
  {
   "cell_type": "markdown",
   "metadata": {},
   "source": [
    "If we wanted to visualize things in a more striking way, with false colors and more contrast, we could use a different colormap."
   ]
  },
  {
   "cell_type": "code",
   "execution_count": null,
   "metadata": {},
   "outputs": [],
   "source": []
  },
  {
   "cell_type": "markdown",
   "metadata": {},
   "source": [
    "Jet is a bad colormap because it is perceptually non-uniform."
   ]
  },
  {
   "cell_type": "markdown",
   "metadata": {},
   "source": [
    "Access IPython's browser-based image display."
   ]
  },
  {
   "cell_type": "code",
   "execution_count": null,
   "metadata": {},
   "outputs": [],
   "source": []
  },
  {
   "cell_type": "markdown",
   "metadata": {},
   "source": [
    "Quickly display a diagram we saved in a file"
   ]
  },
  {
   "cell_type": "code",
   "execution_count": null,
   "metadata": {},
   "outputs": [],
   "source": []
  },
  {
   "cell_type": "markdown",
   "metadata": {},
   "source": [
    "The jumps in the \"perceptual deltas\" plot are values where this colormap makes it look like sharp transitions occur when they do not. Colorblind users rely more on lightness than hue, and will be especially misled."
   ]
  },
  {
   "cell_type": "code",
   "execution_count": null,
   "metadata": {},
   "outputs": [],
   "source": []
  },
  {
   "cell_type": "markdown",
   "metadata": {},
   "source": [
    "This colormap is perceptually uniform by design! It looks cool too."
   ]
  },
  {
   "cell_type": "code",
   "execution_count": null,
   "metadata": {},
   "outputs": [],
   "source": []
  },
  {
   "cell_type": "markdown",
   "metadata": {},
   "source": [
    "**Exercise 3** We discussed that \"jet\" or really any of the rainbow colormaps are perceptually deceiving. Find the documentation for the matplotlib colormaps online. View your \"data\" slice with your perceptually-uniform colormap of choice. "
   ]
  },
  {
   "cell_type": "markdown",
   "metadata": {},
   "source": [
    "Here is the link:\n",
    "https://matplotlib.org/users/colormaps.html"
   ]
  },
  {
   "cell_type": "markdown",
   "metadata": {},
   "source": [
    "View image using plasma colormap"
   ]
  },
  {
   "cell_type": "code",
   "execution_count": null,
   "metadata": {},
   "outputs": [],
   "source": []
  },
  {
   "cell_type": "markdown",
   "metadata": {},
   "source": [
    "Run the following cell to look up the imshow documentation on how to adjust the contrast by specifying vmin and vmax. "
   ]
  },
  {
   "cell_type": "code",
   "execution_count": null,
   "metadata": {},
   "outputs": [],
   "source": []
  },
  {
   "cell_type": "code",
   "execution_count": null,
   "metadata": {},
   "outputs": [],
   "source": []
  },
  {
   "cell_type": "markdown",
   "metadata": {},
   "source": [
    "## 5. File size, disk space, and memory "
   ]
  },
  {
   "cell_type": "markdown",
   "metadata": {},
   "source": [
    "### 5-1 Report the size of the file on the disk "
   ]
  },
  {
   "cell_type": "markdown",
   "metadata": {},
   "source": [
    "a human-readable description of the image file we've been using\n",
    "Pro tip: a leading `!` in a notebook drops you into bash."
   ]
  },
  {
   "cell_type": "code",
   "execution_count": null,
   "metadata": {},
   "outputs": [],
   "source": []
  },
  {
   "cell_type": "markdown",
   "metadata": {},
   "source": [
    "Note the \"35M\". That's our file size."
   ]
  },
  {
   "cell_type": "markdown",
   "metadata": {},
   "source": [
    "### 5-2 Report the size of the file read into memory "
   ]
  },
  {
   "cell_type": "code",
   "execution_count": null,
   "metadata": {},
   "outputs": [],
   "source": []
  },
  {
   "cell_type": "markdown",
   "metadata": {},
   "source": [
    "What is this in MB?"
   ]
  },
  {
   "cell_type": "code",
   "execution_count": null,
   "metadata": {},
   "outputs": [],
   "source": []
  },
  {
   "cell_type": "markdown",
   "metadata": {},
   "source": [
    "So our image on-disk and loaded into Python are the same size. Therefore, this was an _uncompressed_ or _raw_ tif. Such files are quick to read and write, but take up lots of space on your hard drive. Image files always take up $bitdepth \\times x \\times y \\times z$ in memory."
   ]
  },
  {
   "cell_type": "markdown",
   "metadata": {},
   "source": [
    "## 6. Errors and debugs "
   ]
  },
  {
   "cell_type": "code",
   "execution_count": null,
   "metadata": {},
   "outputs": [],
   "source": [
    "def load_image(filename):\n",
    "    return np.random.rand(400, 600)"
   ]
  },
  {
   "cell_type": "markdown",
   "metadata": {},
   "source": [
    "### 6-1 Syntax errors"
   ]
  },
  {
   "cell_type": "markdown",
   "metadata": {},
   "source": [
    "What is this code supposed to do?"
   ]
  },
  {
   "cell_type": "code",
   "execution_count": null,
   "metadata": {},
   "outputs": [],
   "source": [
    "for i in range(50)\n",
    "    image_data = load_image(\"image_{}\".format(i))\n",
    "    my_images.append(image_data)"
   ]
  },
  {
   "cell_type": "markdown",
   "metadata": {},
   "source": [
    "This file is trying to load a series of numbered images into an array of images.\n",
    "\n",
    "_However_ running it gives you an error\n",
    "\n",
    "Python errors are given to you as a \"stack trace\". Let's first dissect a stack trace.\n",
    "\n",
    "**`File \"<ipython-input-some_number-some_ID_number>\", line 3`** tells you what file, and where in the file, the error came from. Because we're in a notebook, instead of a file we get a message that tells us we're in a notebook using IPython and that the error was in line 3.\n",
    "\n",
    "**`  for i in range(50)`** is where Python conveniently reminds us what code was at line 3. Sometimes it shows us a bit of code before and after to give us context.\n",
    "\n",
    "**`^`** marks exactly _where_ in line 3 the problem was noticed. This can be tricky because a problem with a function call may not be noticed until the closing ')' at the very end of the function. Nonetheless, here it might be helpful.\n",
    "\n",
    "**`SyntaxError: invalid syntax`**. This tells us that our problem is a SyntaxError, which is one of a large hierarchy of errors python can provide us with.\n",
    "\n",
    "`SyntaxError`s happen when Python sees you violating the rules of the language - it's a problem with the literal code characters you have typed rather than what your code is trying to do conceptually. Therefore they are usually short errors with quick fixes."
   ]
  },
  {
   "cell_type": "markdown",
   "metadata": {},
   "source": [
    "Do you see how to fix _this_ error?"
   ]
  },
  {
   "cell_type": "code",
   "execution_count": null,
   "metadata": {},
   "outputs": [],
   "source": [
    "for i in range(50)\n",
    "    image_data = load_image(\"image_{}\".format(i))\n",
    "    my_images.append(image_data)"
   ]
  },
  {
   "cell_type": "markdown",
   "metadata": {},
   "source": [
    "### 6.2 NameError "
   ]
  },
  {
   "cell_type": "markdown",
   "metadata": {},
   "source": [
    "`NameError`s happen when you try to access a python variable or function that does not exist yet. To get a NameError, Python has to actually try to run your code, so NameError is a type of `RuntimeError`."
   ]
  },
  {
   "cell_type": "markdown",
   "metadata": {},
   "source": [
    "Can you add in a line that fixes this code?"
   ]
  },
  {
   "cell_type": "code",
   "execution_count": null,
   "metadata": {},
   "outputs": [],
   "source": [
    "for i in range(50):\n",
    "    image_data = load_image(\"image_{}\".format(i))\n",
    "    my_images.append(image_data)"
   ]
  },
  {
   "cell_type": "markdown",
   "metadata": {},
   "source": [
    "In this case \"my_images\" does not exist, so it cannot be appended to, thus the name error. Making an empty my_images array solves this problem.\n",
    "\n",
    "Now that our images are loaded, let's check to make sure each images's mean intensity changes by less than 10% compared with the next timage. This might be a good check to make sure no one bumped our microscope or turned on a light while we were taking images."
   ]
  },
  {
   "cell_type": "code",
   "execution_count": null,
   "metadata": {},
   "outputs": [],
   "source": [
    "for i in range(50):\n",
    "    intensity = my_images[i].mean()\n",
    "    next_intensity = my_images[i+1].mean()\n",
    "    if abs(intensity - next_intensity) > 0.10 * intensity:\n",
    "        print(\"Notice: intensity jumped between images {} and {}\".format(i, i+1))\n",
    "        break"
   ]
  },
  {
   "cell_type": "markdown",
   "metadata": {},
   "source": [
    "### 6.3 IndexError"
   ]
  },
  {
   "cell_type": "markdown",
   "metadata": {},
   "source": [
    "`IndexError`s happen when you try to access data from a list-like object, such as a `numpy` array or image, but the location you requested does not exist. Like asking for index 10 for a list of 10 items.\n",
    "\n",
    "In image processing, this is often caused by switching your rows/columns or width/height. Say you have a 400x600 image and try to access a pixel at row 401-600.\n",
    "\n",
    "It is also generally common when looping through something by index. This is a good reason to use Python's `for item in collection` syntax rather than looping through indices!"
   ]
  },
  {
   "cell_type": "code",
   "execution_count": null,
   "metadata": {},
   "outputs": [],
   "source": [
    "data = [1, 3, \"cat\", 0.4]\n",
    "\n",
    "# This is less clear and prone to error\n",
    "for index in range(4):\n",
    "    item = data[index]\n",
    "    print(item)\n",
    "\n",
    "# Than this\n",
    "for item in data:\n",
    "    print(item)"
   ]
  },
  {
   "cell_type": "markdown",
   "metadata": {},
   "source": [
    "One interesting thing about Python loop's current value, `i` in this case, is available outside the loop and does not reset until you run the loop again. This let's us quickly check what value `i` took on when the code crashed!"
   ]
  },
  {
   "cell_type": "code",
   "execution_count": null,
   "metadata": {},
   "outputs": [],
   "source": []
  },
  {
   "cell_type": "markdown",
   "metadata": {},
   "source": [
    "Now can you explain what happened here? Can you fix this code?"
   ]
  },
  {
   "cell_type": "code",
   "execution_count": null,
   "metadata": {},
   "outputs": [],
   "source": [
    "for i in range(50):\n",
    "    intensity = my_images[i].mean()\n",
    "    next_intensity = my_images[i+1].mean()\n",
    "    if abs(intensity - next_intensity) > 0.10 * intensity:\n",
    "        print(\"Notice: intensity jumped between images {} and {}\".format(i, i+1))\n",
    "        break"
   ]
  },
  {
   "cell_type": "markdown",
   "metadata": {},
   "source": [
    "### Sufficiency and necessity of error messages"
   ]
  },
  {
   "cell_type": "markdown",
   "metadata": {},
   "source": [
    "What would have happened if instead of comparing image `i` to image `i+1` we had compared image `i-1` (previous image) to `i`?"
   ]
  },
  {
   "cell_type": "code",
   "execution_count": null,
   "metadata": {},
   "outputs": [],
   "source": [
    "for i in range(50):\n",
    "    intensity = my_images[i-1].mean()\n",
    "    next_intensity = my_images[i].mean()\n",
    "    if abs(intensity - next_intensity) > 0.10 * intensity:\n",
    "        print(\"Notice: intensity jumped between images {} and {}\".format(i-1, i))\n",
    "        break"
   ]
  },
  {
   "cell_type": "markdown",
   "metadata": {},
   "source": [
    "Exercise There was no error! Did this solve our problem?"
   ]
  },
  {
   "cell_type": "markdown",
   "metadata": {},
   "source": [
    "No, it did not. Consider the first pass through the loop. `i` is 0. `i-1` is -1. What is `my_images[-1]`?"
   ]
  },
  {
   "cell_type": "code",
   "execution_count": null,
   "metadata": {},
   "outputs": [],
   "source": []
  },
  {
   "cell_type": "markdown",
   "metadata": {},
   "source": [
    "`my_images[-1]` doesn't give a name error, -1 refers to the _last_ item in the list. But we don't want to compare the first and last images, so although this runs it's not the right behavior."
   ]
  },
  {
   "cell_type": "markdown",
   "metadata": {},
   "source": [
    "### Long stack traces"
   ]
  },
  {
   "cell_type": "markdown",
   "metadata": {},
   "source": [
    "What can make the errors that we see in this course particularly daunting is that we use many libraries which use other libraries which in turn use more libraries, etc. This means that the peice of code that reports the error is often code we didn't write or didn't even know was being run, which can make errors feel unfair or unsolveable. But here's what's really happening.\n",
    "\n",
    "Imagine that you send me on an errand to buy groceries. You give me detailed instructions (a program) describing the steps to take. So I get in the car and start driving to the store. Half way there, I notice I'm out of gas. That's OK, I have my own program for dealing with that. \"Buy gas at a station\" is a bit of instructions you didn't know I had, nor did you anticipate me using, but it's being used now anyway. I pull into the gas station, get out of my car, pay for the gas, and try to start filling up. However, the gas cover locks from the inside. I don't know about this (new car), and send you a text trying to precisely describe the error: \"Nozzle cannot pass through solid metal\".\n",
    "\n",
    "So here you are, having sent me to buy groceries, and I tell you I can't because \"nozzle cannot pass through solid metal\". Python is frustrating in the same way: generally it tells you the _lowest-level problem_ when it fails. It's important to keep this in mind: the piece of code that reports an error is probably not the one that caused it!\n",
    "\n",
    "Stack traces report errors with the first call at the top. **This means that you should read a long stack trace by starting at the bottom and working up until you see a line of code that you wrote or a function you called.** This line is likely to be the line you have to change. Maybe you passed a string to a function when it needed an integer.\n",
    "\n",
    "Lines below code you wrote in the stack trace may contain hints about what's wrong. Maybe the lowest error at the bottom of the stack trace is \"Cannot subtract string from int\", which is a cluse that there was a string where an int should be.\n",
    "\n",
    "Higher lines tell you the context that the error happened in, i.e. what code ran before the error. Maybe you have a function that you use several times - you want to know _which_ usage of the function is giving you the error. If it's the 2nd time you use the function, then either the function _can_ work, but not in a particular context, or the function is being called in the 2nd location _before_ the first: the flow of your program is not what you expected."
   ]
  }
 ],
 "metadata": {
  "anaconda-cloud": {},
  "kernelspec": {
   "display_name": "Python 3",
   "language": "python",
   "name": "python3"
  },
  "language_info": {
   "codemirror_mode": {
    "name": "ipython",
    "version": 3
   },
   "file_extension": ".py",
   "mimetype": "text/x-python",
   "name": "python",
   "nbconvert_exporter": "python",
   "pygments_lexer": "ipython3",
   "version": "3.5.5"
  }
 },
 "nbformat": 4,
 "nbformat_minor": 1
}
